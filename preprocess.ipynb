{
 "cells": [
  {
   "cell_type": "code",
   "execution_count": 1,
   "metadata": {},
   "outputs": [],
   "source": [
    "# !pip install -U -qq gdown kaggle\n",
    "\n",
    "# from google.colab import drive\n",
    "# drive.mount('/content/drive')\n",
    "\n",
    "# import os\n",
    "# !mkdir -p ~/.kaggle/ && cp /content/drive/MyDrive/all_AI_code/kaggle.json ~/.kaggle/ && chmod 600 ~/.kaggle/kaggle.json"
   ]
  },
  {
   "cell_type": "code",
   "execution_count": 2,
   "metadata": {},
   "outputs": [],
   "source": [
    "import sys\n",
    "sys.path.insert(1, \"../\")\n",
    "import kaggle_api"
   ]
  },
  {
   "cell_type": "code",
   "execution_count": 3,
   "metadata": {},
   "outputs": [
    {
     "name": "stdout",
     "output_type": "stream",
     "text": [
      "Downloading hackathon-online-realfakenumbers.zip to /Users/rootbeam/Hackaton/realfake_numbers\n",
      "100%|██████████████████████████████████████| 1.79M/1.79M [00:01<00:00, 1.96MB/s]\n",
      "100%|██████████████████████████████████████| 1.79M/1.79M [00:01<00:00, 1.72MB/s]\n"
     ]
    }
   ],
   "source": [
    "!kaggle competitions download -c hackathon-online-realfakenumbers"
   ]
  },
  {
   "cell_type": "code",
   "execution_count": 5,
   "metadata": {},
   "outputs": [],
   "source": [
    "import zipfile\n",
    "import os\n",
    "import os\n",
    "from glob import glob"
   ]
  },
  {
   "cell_type": "code",
   "execution_count": 5,
   "metadata": {},
   "outputs": [
    {
     "name": "stdout",
     "output_type": "stream",
     "text": [
      "Unzipping main_zip data...\n"
     ]
    }
   ],
   "source": [
    "with zipfile.ZipFile(\"./hackathon-online-realfakenumbers.zip\", \"r\") as zip_ref:\n",
    "    print(\"Unzipping main_zip data...\") \n",
    "    zip_ref.extractall('./data/')\n",
    "\n",
    "os.remove(\"./hackathon-online-realfakenumbers.zip\")"
   ]
  },
  {
   "cell_type": "code",
   "execution_count": 4,
   "metadata": {},
   "outputs": [
    {
     "name": "stdout",
     "output_type": "stream",
     "text": [
      "'./data/' There are 2 directories and 1 flie(s).\n",
      "'./data/Train_1000' There are 1 directories and 0 flie(s).\n",
      "'./data/Train_1000/Train_1000รูป' There are 2 directories and 0 flie(s).\n",
      "'./data/Train_1000/Train_1000รูป/0' There are 0 directories and 487 flie(s).\n",
      "'./data/Train_1000/Train_1000รูป/1' There are 0 directories and 514 flie(s).\n",
      "'./data/test_set-20230712T063018Z-001' There are 1 directories and 0 flie(s).\n",
      "'./data/test_set-20230712T063018Z-001/test_set' There are 1 directories and 0 flie(s).\n",
      "'./data/test_set-20230712T063018Z-001/test_set/test' There are 0 directories and 1010 flie(s).\n"
     ]
    }
   ],
   "source": [
    "def walk_through_dir(dir_path):\n",
    "  for dirpath, dirnames, filenames in os.walk(dir_path):\n",
    "    print(f\"'{dirpath}' There are {len(dirnames)} directories and {len(filenames)} flie(s).\")\n",
    "\n",
    "walk_through_dir('./data/')"
   ]
  },
  {
   "cell_type": "code",
   "execution_count": null,
   "metadata": {},
   "outputs": [],
   "source": []
  }
 ],
 "metadata": {
  "kernelspec": {
   "display_name": "gpu",
   "language": "python",
   "name": "python3"
  },
  "language_info": {
   "codemirror_mode": {
    "name": "ipython",
    "version": 3
   },
   "file_extension": ".py",
   "mimetype": "text/x-python",
   "name": "python",
   "nbconvert_exporter": "python",
   "pygments_lexer": "ipython3",
   "version": "3.10.11"
  },
  "orig_nbformat": 4
 },
 "nbformat": 4,
 "nbformat_minor": 2
}
